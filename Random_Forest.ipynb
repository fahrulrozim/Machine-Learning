{
  "nbformat": 4,
  "nbformat_minor": 0,
  "metadata": {
    "colab": {
      "name": "Random Forest.ipynb",
      "version": "0.3.2",
      "provenance": []
    },
    "kernelspec": {
      "name": "python3",
      "display_name": "Python 3"
    }
  },
  "cells": [
    {
      "cell_type": "markdown",
      "metadata": {
        "id": "view-in-github",
        "colab_type": "text"
      },
      "source": [
        "[View in Colaboratory](https://colab.research.google.com/github/fahrulrozim/Machine-Learning/blob/master/Random_Forest.ipynb)"
      ]
    },
    {
      "metadata": {
        "id": "vPtdAOfcTrWs",
        "colab_type": "code",
        "colab": {}
      },
      "cell_type": "code",
      "source": [
        "from random import seed\n",
        "from random import randrange\n",
        "from csv import reader\n",
        "from math import sqrt"
      ],
      "execution_count": 0,
      "outputs": []
    },
    {
      "metadata": {
        "id": "06UPGylHUPG8",
        "colab_type": "code",
        "colab": {}
      },
      "cell_type": "code",
      "source": [
        "#Load dataset\n",
        "def datasonar(filename):\n",
        "  dataset = list()\n",
        "  with open(filename, 'r') as file:\n",
        "    csv_reader = reader(csv)\n",
        "    for row in csv_reader:\n",
        "      if not row:\n",
        "        continue\n",
        "        dataset.append(row)\n",
        "    return dataset"
      ],
      "execution_count": 0,
      "outputs": []
    },
    {
      "metadata": {
        "id": "HXhoPt0iVaoC",
        "colab_type": "code",
        "colab": {}
      },
      "cell_type": "code",
      "source": [
        "#String column to float\n",
        "def string_column_to_float(dataset, column):\n",
        "  for row in dataset:\n",
        "    row[column] = float(row[column].strip())\n",
        "    "
      ],
      "execution_count": 0,
      "outputs": []
    },
    {
      "metadata": {
        "id": "JIG34qJ4VhLT",
        "colab_type": "code",
        "colab": {}
      },
      "cell_type": "code",
      "source": [
        "#String column to int\n",
        "def string_column_to_int(dataset, column):\n",
        "  class_value = [row[column] for row in dataset]\n",
        "  unique = set(class_values)\n",
        "  lookup = dict()\n",
        "  for i, value in enumerate(unique):\n",
        "    lookup[value] = i\n",
        "  for row in dataset:\n",
        "    row[column] = lookup[row[column]]\n",
        "  return lookup"
      ],
      "execution_count": 0,
      "outputs": []
    },
    {
      "metadata": {
        "id": "20qFjC8TW9hm",
        "colab_type": "code",
        "colab": {}
      },
      "cell_type": "code",
      "source": [
        "#Split dataset into k folds\n",
        "def cross_validation(dataset, n_folds):\n",
        "  dataset_split = list()\n",
        "  dataset_copy = list(dataset)\n",
        "  fold_size = int(len(dataset) / n_folds)\n",
        "  for i in range(n_folds):\n",
        "    fold = list()\n",
        "    while len(fold) < fold_size:\n",
        "      index = randrange(len(dataset_copy))\n",
        "      fold.append(dataset_copy.pop(index))\n",
        "    dataset_split.append(fold)\n",
        "  return dataset_split"
      ],
      "execution_count": 0,
      "outputs": []
    },
    {
      "metadata": {
        "id": "Heik6UfYYOQ5",
        "colab_type": "code",
        "colab": {}
      },
      "cell_type": "code",
      "source": [
        "#Accuracy Percentage\n",
        "def accuracy_metric(actual, predicted):\n",
        "  correct = 0\n",
        "  for i in range(len(actual)):\n",
        "    if actual[i] == predicted[i]:\n",
        "      correct += 1\n",
        "  return correct / float(len(actual)) * 100.0"
      ],
      "execution_count": 0,
      "outputs": []
    },
    {
      "metadata": {
        "id": "4CIIFKAhZN4i",
        "colab_type": "code",
        "colab": {}
      },
      "cell_type": "code",
      "source": [
        "#Evaluate algorithm using cross validation\n",
        "def evaluate_algorithm(dataset, algorithm, n_folds, *args):\n",
        "  folds = cross_validation_split(dataset, n_folds)\n",
        "  scores = list()\n",
        "  for fold in folds:\n",
        "    train_set = list(folds)\n",
        "    train_set.remove(fold)\n",
        "    train_set = sum(train_set, [])\n",
        "    test_set = list()\n",
        "    for row in fold:\n",
        "      row_copy = list(row)\n",
        "      test_set.append(row_copy)\n",
        "      row_copy[-1] = None\n",
        "    predicted = algorithm(train_set, test_set, *args)\n",
        "    actual = [row[-1] for row in fold]\n",
        "    accuracy = accuracy_metric(actual, predicted)\n",
        "    scores.append(accuracy)\n",
        "  return scores"
      ],
      "execution_count": 0,
      "outputs": []
    },
    {
      "metadata": {
        "id": "UTae416CaprP",
        "colab_type": "code",
        "colab": {}
      },
      "cell_type": "code",
      "source": [
        "#Split dataset based on attribute and attribute value\n",
        "def test_split(index, value, dataset):\n",
        "  left, right = list(), list()\n",
        "  for row in dataset:\n",
        "    if row[index] < value:\n",
        "      left.append(row)\n",
        "    else:\n",
        "      right.append(row)\n",
        "  return left, right"
      ],
      "execution_count": 0,
      "outputs": []
    },
    {
      "metadata": {
        "id": "b7ThgQH0bQAV",
        "colab_type": "code",
        "colab": {}
      },
      "cell_type": "code",
      "source": [
        "#Calculate Gini index for a split dataset\n",
        "def gini_index(groups, classes):\n",
        "  #count all samples at split point\n",
        "  n_instances = float(sum([len(group) for group in groups]))\n",
        "  #sum weighted gini index for each group\n",
        "  gini = 0.0\n",
        "  for group in groups:\n",
        "    size = float(len(group))\n",
        "    #avoid divide by zero\n",
        "    if size == 0:\n",
        "      continue\n",
        "    score = 0.0\n",
        "    #score the group based on the score for each class\n",
        "    for class_val in classes:\n",
        "      p = [row[-1] for row in group].count(class_val) / size\n",
        "      score += p * p\n",
        "    #weight the group score by its relative size\n",
        "    gini += (1.0 - score) * (size / n_instances)\n",
        "  return gini"
      ],
      "execution_count": 0,
      "outputs": []
    },
    {
      "metadata": {
        "id": "iKPWRNN7c0nT",
        "colab_type": "code",
        "colab": {}
      },
      "cell_type": "code",
      "source": [
        "#Select the best split point or dataset\n",
        "def get_split(dataset, n_features):\n",
        "  class_value = list(set(row[-1] for row in dataset))\n",
        "  b_index, b_value, b_score, b_groups = 999, 999, 999, None\n",
        "  features = list()\n",
        "  while len(features) < n_features:\n",
        "    index = randrange(len(dataset[0])-1)\n",
        "    if index not in features:\n",
        "      features.append(index)\n",
        "  for index in features:\n",
        "    for row in dataset:\n",
        "      groups = test_split(index, row[index], dataset)\n",
        "      gini = gini_index(groups, class_values)\n",
        "      if gini < b_score:\n",
        "        b_index, b_value, b_score, b_group = index, row[index], gini, groups\n",
        "  return {'index':b_index, 'value':b_value, 'group':b_groups}"
      ],
      "execution_count": 0,
      "outputs": []
    },
    {
      "metadata": {
        "id": "M-VH2tJfc3FG",
        "colab_type": "code",
        "colab": {}
      },
      "cell_type": "code",
      "source": [
        "#Create a terminal node value\n",
        "def to_terminal(group):\n",
        "  outcomes - [row[-1] for row in group]\n",
        "  return max(set(outcomes), key=outcomes.count)"
      ],
      "execution_count": 0,
      "outputs": []
    },
    {
      "metadata": {
        "id": "HdcdFVLDe4sY",
        "colab_type": "code",
        "colab": {}
      },
      "cell_type": "code",
      "source": [
        "#Create child splits for a node or make terminal\n",
        "def split(node, max_depth, min_size, n_features, depth):\n",
        "  left, right = node['groups']\n",
        "  del(node['groups'])\n",
        "  #Check for a no split\n",
        "  if not left or not right:\n",
        "    node['left'] = node['right'] = to_terminal(left), to_terminal(right)\n",
        "    return\n",
        "  #Check for a max depth\n",
        "  if depth >= max_depth:\n",
        "    node['left'], node['right'] = to_terminal(left), to_terminal(right)\n",
        "    return\n",
        "  #Process left child\n",
        "  if len(left) <= min_size:\n",
        "    node['left'] = to_terminal(left)\n",
        "  else:\n",
        "    node['left'] = get_split(left, n_features)\n",
        "    split(node['left'], max_depth, min_size, n_features, depth+1)\n",
        "  #process right child\n",
        "  if len(right) <= min_size:\n",
        "    node['right'] = to_terminal(right)\n",
        "  else:\n",
        "    node['right'] = get_split(right, n_features)\n",
        "    split(node['right'], max_depth, min_size, n_features, depth+1)"
      ],
      "execution_count": 0,
      "outputs": []
    },
    {
      "metadata": {
        "id": "7i0XdRbHzDnc",
        "colab_type": "code",
        "colab": {}
      },
      "cell_type": "code",
      "source": [
        "#Decision Tree\n",
        "def build_tree(train, max_depth, min_size, n_features):\n",
        "  root = get_split(train, n_features)\n",
        "  split(root, max_depth, min_size, n_features, 1)\n",
        "  return root"
      ],
      "execution_count": 0,
      "outputs": []
    },
    {
      "metadata": {
        "id": "neCKFrDazc1L",
        "colab_type": "code",
        "colab": {}
      },
      "cell_type": "code",
      "source": [
        "#Prediction with decision tree\n",
        "def predict(node, row):\n",
        "  if row[node['index']] < node['value']:\n",
        "    if isinstance(node['left'], dict):\n",
        "      return predict(node['left'], row)\n",
        "    else:\n",
        "      return node['left']\n",
        "  else:\n",
        "    if isinstance(node['right'], dict):\n",
        "      return predict(node['right'], row)\n",
        "    else:\n",
        "      return node['right']"
      ],
      "execution_count": 0,
      "outputs": []
    },
    {
      "metadata": {
        "id": "vf14QK7a0Hrb",
        "colab_type": "code",
        "colab": {}
      },
      "cell_type": "code",
      "source": [
        "#Random sub sample from dataset with replacement\n",
        "def subsample(dataset, ratio):\n",
        "  sample = list()\n",
        "  n_sample = round(len(dataset) * ratio)\n",
        "  while len(sample) < n_sample:\n",
        "    index = randrange(len(dataset))\n",
        "    sample.append(dataset[index])\n",
        "  return sample"
      ],
      "execution_count": 0,
      "outputs": []
    },
    {
      "metadata": {
        "id": "ODpWktjF0zCX",
        "colab_type": "code",
        "colab": {}
      },
      "cell_type": "code",
      "source": [
        "#Prediction with a list of bagged trees\n",
        "def bagging_predict(trees, row):\n",
        "  predictions = [predict(tree, row) for tree in trees]\n",
        "  return max(set(predictions), key=predictions.count)"
      ],
      "execution_count": 0,
      "outputs": []
    },
    {
      "metadata": {
        "id": "7LVnuF0L09VY",
        "colab_type": "code",
        "colab": {}
      },
      "cell_type": "code",
      "source": [
        "#Random Forest Algorithm\n",
        "def random_forest(train, test, max_depth, min_size, sample_size, n_trees, n_features):\n",
        "  trees = list()\n",
        "  for i in range(n_trees):\n",
        "    sample = subsample(train, sample_size)\n",
        "    tree = build_tree(sample, max_depth, min_size, n_features)\n",
        "    trees.append(tree)\n",
        "  predictions = [bagging_predict(trees, row) for row in test]\n",
        "  return(predictions)"
      ],
      "execution_count": 0,
      "outputs": []
    },
    {
      "metadata": {
        "id": "TCZ0vLr21Tqx",
        "colab_type": "code",
        "colab": {
          "base_uri": "https://localhost:8080/",
          "height": 231
        },
        "outputId": "f3513fea-fde6-4cea-91ae-3be3c6b986eb"
      },
      "cell_type": "code",
      "source": [
        "#Test random forest algorithm\n",
        "seed(2)\n",
        "#load and prepare data\n",
        "filename = 'sonar.all-data.csv'\n",
        "dataset = load_csv(filename)\n",
        "#Convert string attributes to integers\n",
        "for i in range(0, len(dataset[0])-1):\n",
        "  str_column_to_float(dataset, i)\n",
        "#Convert class column to integers\n",
        "str_column_to_int(dataset, len(dataset[0])-1)\n",
        "#Evaluate algorithm\n",
        "n_folds = 5\n",
        "max_depth = 10\n",
        "min_size = 1\n",
        "sample_size = 1.0\n",
        "n_features = int(sqrt(len(dataset[0])-1))\n",
        "for n_trees in [1, 5, 10]:\n",
        "  scores = evaluate_algorithm(dataset, random_forest, n_folds, max_depth, min_size, sample_size, n_trees, n_features)\n",
        "  print('Trees: %d' % n_trees)\n",
        "  print('Scores: %s' % scores)\n",
        "  print('Mean Accuracy: %.3f%%' % (sum(scores)/float(len(scores))))"
      ],
      "execution_count": 32,
      "outputs": [
        {
          "output_type": "error",
          "ename": "NameError",
          "evalue": "ignored",
          "traceback": [
            "\u001b[0;31m---------------------------------------------------------------------------\u001b[0m",
            "\u001b[0;31mNameError\u001b[0m                                 Traceback (most recent call last)",
            "\u001b[0;32m<ipython-input-32-f82a22788029>\u001b[0m in \u001b[0;36m<module>\u001b[0;34m()\u001b[0m\n\u001b[1;32m      2\u001b[0m \u001b[0;31m#load and prepare data\u001b[0m\u001b[0;34m\u001b[0m\u001b[0;34m\u001b[0m\u001b[0m\n\u001b[1;32m      3\u001b[0m \u001b[0mfilename\u001b[0m \u001b[0;34m=\u001b[0m \u001b[0;34m'sonar.all-data.csv'\u001b[0m\u001b[0;34m\u001b[0m\u001b[0m\n\u001b[0;32m----> 4\u001b[0;31m \u001b[0mdataset\u001b[0m \u001b[0;34m=\u001b[0m \u001b[0mload_csv\u001b[0m\u001b[0;34m(\u001b[0m\u001b[0mfilename\u001b[0m\u001b[0;34m)\u001b[0m\u001b[0;34m\u001b[0m\u001b[0m\n\u001b[0m\u001b[1;32m      5\u001b[0m \u001b[0;31m#Convert string attributes to integers\u001b[0m\u001b[0;34m\u001b[0m\u001b[0;34m\u001b[0m\u001b[0m\n\u001b[1;32m      6\u001b[0m \u001b[0;32mfor\u001b[0m \u001b[0mi\u001b[0m \u001b[0;32min\u001b[0m \u001b[0mrange\u001b[0m\u001b[0;34m(\u001b[0m\u001b[0;36m0\u001b[0m\u001b[0;34m,\u001b[0m \u001b[0mlen\u001b[0m\u001b[0;34m(\u001b[0m\u001b[0mdataset\u001b[0m\u001b[0;34m[\u001b[0m\u001b[0;36m0\u001b[0m\u001b[0;34m]\u001b[0m\u001b[0;34m)\u001b[0m\u001b[0;34m-\u001b[0m\u001b[0;36m1\u001b[0m\u001b[0;34m)\u001b[0m\u001b[0;34m:\u001b[0m\u001b[0;34m\u001b[0m\u001b[0m\n",
            "\u001b[0;31mNameError\u001b[0m: name 'load_csv' is not defined"
          ]
        }
      ]
    }
  ]
}