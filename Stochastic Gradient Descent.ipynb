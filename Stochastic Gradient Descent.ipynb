{
 "cells": [
  {
   "cell_type": "code",
   "execution_count": 1,
   "metadata": {},
   "outputs": [],
   "source": [
    "import pandas\n",
    "import numpy as np\n",
    "import matplotlib.pyplot as plt\n",
    "import math\n",
    "import csv"
   ]
  },
  {
   "cell_type": "code",
   "execution_count": 2,
   "metadata": {},
   "outputs": [
    {
     "name": "stdout",
     "output_type": "stream",
     "text": [
      "    sepal-length  sepal-width  petal-length  petal-width            class\n",
      "0            5.1          3.5           1.4          0.2      Iris-setosa\n",
      "1            4.9          3.0           1.4          0.2      Iris-setosa\n",
      "2            4.7          3.2           1.3          0.2      Iris-setosa\n",
      "3            4.6          3.1           1.5          0.2      Iris-setosa\n",
      "4            5.0          3.6           1.4          0.2      Iris-setosa\n",
      "5            5.4          3.9           1.7          0.4      Iris-setosa\n",
      "6            4.6          3.4           1.4          0.3      Iris-setosa\n",
      "7            5.0          3.4           1.5          0.2      Iris-setosa\n",
      "8            4.4          2.9           1.4          0.2      Iris-setosa\n",
      "9            4.9          3.1           1.5          0.1      Iris-setosa\n",
      "10           5.4          3.7           1.5          0.2      Iris-setosa\n",
      "11           4.8          3.4           1.6          0.2      Iris-setosa\n",
      "12           4.8          3.0           1.4          0.1      Iris-setosa\n",
      "13           4.3          3.0           1.1          0.1      Iris-setosa\n",
      "14           5.8          4.0           1.2          0.2      Iris-setosa\n",
      "15           5.7          4.4           1.5          0.4      Iris-setosa\n",
      "16           5.4          3.9           1.3          0.4      Iris-setosa\n",
      "17           5.1          3.5           1.4          0.3      Iris-setosa\n",
      "18           5.7          3.8           1.7          0.3      Iris-setosa\n",
      "19           5.1          3.8           1.5          0.3      Iris-setosa\n",
      "20           5.4          3.4           1.7          0.2      Iris-setosa\n",
      "21           5.1          3.7           1.5          0.4      Iris-setosa\n",
      "22           4.6          3.6           1.0          0.2      Iris-setosa\n",
      "23           5.1          3.3           1.7          0.5      Iris-setosa\n",
      "24           4.8          3.4           1.9          0.2      Iris-setosa\n",
      "25           5.0          3.0           1.6          0.2      Iris-setosa\n",
      "26           5.0          3.4           1.6          0.4      Iris-setosa\n",
      "27           5.2          3.5           1.5          0.2      Iris-setosa\n",
      "28           5.2          3.4           1.4          0.2      Iris-setosa\n",
      "29           4.7          3.2           1.6          0.2      Iris-setosa\n",
      "..           ...          ...           ...          ...              ...\n",
      "70           5.9          3.2           4.8          1.8  Iris-versicolor\n",
      "71           6.1          2.8           4.0          1.3  Iris-versicolor\n",
      "72           6.3          2.5           4.9          1.5  Iris-versicolor\n",
      "73           6.1          2.8           4.7          1.2  Iris-versicolor\n",
      "74           6.4          2.9           4.3          1.3  Iris-versicolor\n",
      "75           6.6          3.0           4.4          1.4  Iris-versicolor\n",
      "76           6.8          2.8           4.8          1.4  Iris-versicolor\n",
      "77           6.7          3.0           5.0          1.7  Iris-versicolor\n",
      "78           6.0          2.9           4.5          1.5  Iris-versicolor\n",
      "79           5.7          2.6           3.5          1.0  Iris-versicolor\n",
      "80           5.5          2.4           3.8          1.1  Iris-versicolor\n",
      "81           5.5          2.4           3.7          1.0  Iris-versicolor\n",
      "82           5.8          2.7           3.9          1.2  Iris-versicolor\n",
      "83           6.0          2.7           5.1          1.6  Iris-versicolor\n",
      "84           5.4          3.0           4.5          1.5  Iris-versicolor\n",
      "85           6.0          3.4           4.5          1.6  Iris-versicolor\n",
      "86           6.7          3.1           4.7          1.5  Iris-versicolor\n",
      "87           6.3          2.3           4.4          1.3  Iris-versicolor\n",
      "88           5.6          3.0           4.1          1.3  Iris-versicolor\n",
      "89           5.5          2.5           4.0          1.3  Iris-versicolor\n",
      "90           5.5          2.6           4.4          1.2  Iris-versicolor\n",
      "91           6.1          3.0           4.6          1.4  Iris-versicolor\n",
      "92           5.8          2.6           4.0          1.2  Iris-versicolor\n",
      "93           5.0          2.3           3.3          1.0  Iris-versicolor\n",
      "94           5.6          2.7           4.2          1.3  Iris-versicolor\n",
      "95           5.7          3.0           4.2          1.2  Iris-versicolor\n",
      "96           5.7          2.9           4.2          1.3  Iris-versicolor\n",
      "97           6.2          2.9           4.3          1.3  Iris-versicolor\n",
      "98           5.1          2.5           3.0          1.1  Iris-versicolor\n",
      "99           5.7          2.8           4.1          1.3  Iris-versicolor\n",
      "\n",
      "[100 rows x 5 columns]\n"
     ]
    }
   ],
   "source": [
    "#tampilan data awal\n",
    "url ='C:/Users/HOME/Desktop/Data_iris.csv'\n",
    "names = ['sepal-length', 'sepal-width', 'petal-length', 'petal-width', 'class']\n",
    "data = pandas.read_csv(url, names=names)\n",
    "print(data)"
   ]
  },
  {
   "cell_type": "code",
   "execution_count": 3,
   "metadata": {},
   "outputs": [],
   "source": [
    "data_iris = np.zeros((100,4))\n",
    "class_fact = np.zeros((100))\n",
    "def saveData():\n",
    "    for i in range (100):\n",
    "        for j in range(5):\n",
    "            if j == 4:\n",
    "                if data.iloc[i][j]==\"Iris-setosa\":\n",
    "                    class_fact[i]=1\n",
    "                else:\n",
    "                    class_fact[i]=0\n",
    "            else:\n",
    "                data_iris[i][j] = data.iloc[i][j]\n",
    "            "
   ]
  },
  {
   "cell_type": "code",
   "execution_count": 4,
   "metadata": {},
   "outputs": [
    {
     "data": {
      "text/plain": [
       "1.0"
      ]
     },
     "execution_count": 4,
     "metadata": {},
     "output_type": "execute_result"
    }
   ],
   "source": [
    "saveData()\n",
    "class_fact[0]"
   ]
  },
  {
   "cell_type": "code",
   "execution_count": 5,
   "metadata": {},
   "outputs": [],
   "source": [
    "new_tetha = np.zeros((101, 5))\n",
    "new_tetha[0]=([0.2, 0.6, 0.3, 0.4, 0.9])\n",
    "tetha = [0.2, 0.6, 0.3, 0.4, 0.9]\n",
    "error = np.zeros(100)\n",
    "dTetha = np.zeros((100, 5))\n",
    "dBias = 0.0\n",
    "alpha = 0.1\n",
    "#alpha = 0.8\n",
    "prediksi = []"
   ]
  },
  {
   "cell_type": "code",
   "execution_count": 6,
   "metadata": {},
   "outputs": [],
   "source": [
    "#fungsi h(x,tetha,bias)\n",
    "def h_function(i):\n",
    "    return data_iris[i][0]*tetha[0]+data_iris[i][1]*tetha[1]+data_iris[i][2]*tetha[2]+data_iris[i][3]*tetha[3]+tetha[4]"
   ]
  },
  {
   "cell_type": "code",
   "execution_count": 7,
   "metadata": {},
   "outputs": [
    {
     "data": {
      "text/plain": [
       "4.5200000000000005"
      ]
     },
     "execution_count": 7,
     "metadata": {},
     "output_type": "execute_result"
    }
   ],
   "source": [
    "h_function(0)"
   ]
  },
  {
   "cell_type": "code",
   "execution_count": 8,
   "metadata": {},
   "outputs": [],
   "source": [
    "#fungsi sigmoid(h)\n",
    "def sigmoid(i):\n",
    "    return 1/(1+math.exp(-1.0*h_function(i)))"
   ]
  },
  {
   "cell_type": "code",
   "execution_count": 9,
   "metadata": {},
   "outputs": [
    {
     "data": {
      "text/plain": [
       "0.9892282699548585"
      ]
     },
     "execution_count": 9,
     "metadata": {},
     "output_type": "execute_result"
    }
   ],
   "source": [
    "sigmoid(0)"
   ]
  },
  {
   "cell_type": "code",
   "execution_count": 10,
   "metadata": {},
   "outputs": [],
   "source": [
    "#Error\n",
    "def error_function(i):\n",
    "    return (class_fact[i]-sigmoid(i))**2"
   ]
  },
  {
   "cell_type": "code",
   "execution_count": 11,
   "metadata": {},
   "outputs": [],
   "source": [
    "#Delta Tetha\n",
    "def delta_tetha(i):\n",
    "    for j in range(5):\n",
    "        if j == 4:\n",
    "            dTetha[i][j] = 2*(sigmoid(i)-class_fact[i])*(1-sigmoid(i))*sigmoid(i)\n",
    "        else:\n",
    "            dTetha[i][j] = 2*(sigmoid(i) - class_fact[i])*(1-sigmoid(i))*sigmoid(i)*data_iris[i][j]"
   ]
  },
  {
   "cell_type": "code",
   "execution_count": 12,
   "metadata": {},
   "outputs": [],
   "source": [
    "#Update Tetha\n",
    "def update_tetha(i):\n",
    "    global tetha\n",
    "    for j in range(4):\n",
    "        new_tetha[i+1][j]=tetha[j]-(alpha*dTetha[i][j])\n",
    "    tetha = new_tetha[i+1]"
   ]
  },
  {
   "cell_type": "code",
   "execution_count": 13,
   "metadata": {},
   "outputs": [],
   "source": [
    "error_function(0)\n",
    "delta_tetha(0)"
   ]
  },
  {
   "cell_type": "code",
   "execution_count": 14,
   "metadata": {},
   "outputs": [],
   "source": [
    "def start():\n",
    "    Epoch = 60\n",
    "    alpha = 0.1\n",
    "    #alpha = 0.8\n",
    "    x=np.zeros(Epoch)\n",
    "    saveData()\n",
    "    for j in range (Epoch):\n",
    "        for i in range(100):\n",
    "            h_function(i)\n",
    "            sigmoid(i)\n",
    "            error_function(i)\n",
    "            delta_tetha(i)\n",
    "            update_tetha(i)\n",
    "            x[j]=x[j]+error_function(i)\n",
    "    plt.plot(x)\n",
    "    plt.show\n",
    "            "
   ]
  },
  {
   "cell_type": "code",
   "execution_count": 15,
   "metadata": {},
   "outputs": [
    {
     "data": {
      "image/png": "[encoded data removed]",
      "text/plain": [
       "<matplotlib.figure.Figure at 0xa37103df98>"
      ]
     },
     "metadata": {},
     "output_type": "display_data"
    }
   ],
   "source": [
    "start()"
   ]
  }
 ],
 "metadata": {
  "kernelspec": {
   "display_name": "Python 3",
   "language": "python",
   "name": "python3"
  },
  "language_info": {
   "codemirror_mode": {
    "name": "ipython",
    "version": 3
   },
   "file_extension": ".py",
   "mimetype": "text/x-python",
   "name": "python",
   "nbconvert_exporter": "python",
   "pygments_lexer": "ipython3",
   "version": "3.6.4"
  }
 },
 "nbformat": 4,
 "nbformat_minor": 2
}
